{
  "nbformat": 4,
  "nbformat_minor": 0,
  "metadata": {
    "colab": {
      "provenance": [],
      "authorship_tag": "ABX9TyN1qh32Q3zM0+d4rMCK2jye",
      "include_colab_link": true
    },
    "kernelspec": {
      "name": "python3",
      "display_name": "Python 3"
    },
    "language_info": {
      "name": "python"
    }
  },
  "cells": [
    {
      "cell_type": "markdown",
      "metadata": {
        "id": "view-in-github",
        "colab_type": "text"
      },
      "source": [
        "<a href=\"https://colab.research.google.com/github/ChrisHarvey21/HABs/blob/main/HABs.ipynb\" target=\"_parent\"><img src=\"https://colab.research.google.com/assets/colab-badge.svg\" alt=\"Open In Colab\"/></a>"
      ]
    },
    {
      "cell_type": "code",
      "execution_count": 1,
      "metadata": {
        "id": "0rvrFBW_7fXz"
      },
      "outputs": [],
      "source": [
        "#HABs Model\n",
        "#creating a model to determine HAB severity based on input variables"
      ]
    },
    {
      "cell_type": "code",
      "source": [
        "%%capture\n",
        "!pip install geopandas\n",
        "!pip install libpysal"
      ],
      "metadata": {
        "id": "noWxq6QrfEhD"
      },
      "execution_count": 2,
      "outputs": []
    },
    {
      "cell_type": "code",
      "source": [
        "import numpy as np\n",
        "import geopandas as gpd\n",
        "import pandas as pd\n",
        "import matplotlib.pyplot as plt\n",
        "import seaborn as sns\n",
        "import statsmodels.api as sm\n",
        "from statsmodels.stats.outliers_influence import variance_inflation_factor\n",
        "from sklearn.model_selection import cross_val_score\n",
        "from sklearn.model_selection import RepeatedKFold\n",
        "from sklearn.linear_model import Ridge\n",
        "from sklearn.linear_model import Lasso\n",
        "from sklearn.linear_model import ElasticNet\n",
        "from numpy import mean\n",
        "from numpy import std\n",
        "from numpy import absolute\n",
        "from libpysal.weights.contiguity import Queen\n",
        "import libpysal\n",
        "from statsmodels.api import OLS\n",
        "sns.set_style('white')"
      ],
      "metadata": {
        "id": "bMbxxDmYfFMo"
      },
      "execution_count": 3,
      "outputs": []
    },
    {
      "cell_type": "code",
      "source": [
        "#attach to Google Drive\n",
        "from google.colab import drive\n",
        "drive.mount('/content/drive')"
      ],
      "metadata": {
        "id": "Nfcfd9pdiAX-"
      },
      "execution_count": null,
      "outputs": []
    },
    {
      "cell_type": "code",
      "source": [
        "#load in dataset\n",
        "#import required function:\n",
        "import urllib.request\n",
        "\n",
        "url = 'https://raw.githubusercontent.com/ChrisHarvey21/HABs/main/habs.csv?token=GHSAT0AAAAAABZDDLJKOAQ25ZIOQNZGJFAGY3AFJKQ'\n",
        "\n",
        "df1 = pd.read_csv(url)\n"
      ],
      "metadata": {
        "id": "WDk8m5Dxhslp"
      },
      "execution_count": null,
      "outputs": []
    },
    {
      "cell_type": "code",
      "source": [
        "#View Dataset\n",
        "df1.head()"
      ],
      "metadata": {
        "id": "_QNGU2XNmmgG"
      },
      "execution_count": null,
      "outputs": []
    },
    {
      "cell_type": "code",
      "source": [
        "#Create subset of habs called mylist\n",
        "my_list = [\"date\", \"severity\", \"precip\", \"precip_1_day\" , \"pecip_2_day\", \"3_day_sum\", \"max_temp\", \"mean_temp\"]      "
      ],
      "metadata": {
        "id": "GHNdchSQm0qT"
      },
      "execution_count": null,
      "outputs": []
    },
    {
      "cell_type": "code",
      "source": [
        "#check to make sure all your columns are there:\n",
        "df1[my_list].head(10)"
      ],
      "metadata": {
        "id": "TR4BtzoFpg1j"
      },
      "execution_count": null,
      "outputs": []
    },
    {
      "cell_type": "code",
      "source": [
        "#Seaborn.pairplot to plot a scatterplot matrix\n",
        "sns.pairplot(df1[my_list])"
      ],
      "metadata": {
        "id": "mgPrmGlvp_gf"
      },
      "execution_count": null,
      "outputs": []
    },
    {
      "cell_type": "code",
      "source": [
        "#look at timeseries of algal seveirty versus time of year\n",
        "plt.plot(df1['date'],df1['severity'])\n",
        "plt.show()"
      ],
      "metadata": {
        "id": "14H28AWrqf7M",
        "outputId": "917ef1ac-7467-4951-9c8c-5a1be7d12269",
        "colab": {
          "base_uri": "https://localhost:8080/",
          "height": 265
        }
      },
      "execution_count": 59,
      "outputs": [
        {
          "output_type": "display_data",
          "data": {
            "text/plain": [
              "<Figure size 432x288 with 1 Axes>"
            ],
            "image/png": "[encoded data removed]"
          },
          "metadata": {}
        }
      ]
    },
    {
      "cell_type": "code",
      "source": [
        "#Do VIF, if any are greater than 10 we have to either throw out predictor variables that arent important or add on bias reducers\n"
      ],
      "metadata": {
        "id": "MHRQSv_3nP0L"
      },
      "execution_count": null,
      "outputs": []
    }
  ]
}