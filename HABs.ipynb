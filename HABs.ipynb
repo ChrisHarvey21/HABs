{
  "nbformat": 4,
  "nbformat_minor": 0,
  "metadata": {
    "colab": {
      "provenance": [],
      "authorship_tag": "ABX9TyOF3Bz4M1ydBUDGwQzGQiyO",
      "include_colab_link": true
    },
    "kernelspec": {
      "name": "python3",
      "display_name": "Python 3"
    },
    "language_info": {
      "name": "python"
    }
  },
  "cells": [
    {
      "cell_type": "markdown",
      "metadata": {
        "id": "view-in-github",
        "colab_type": "text"
      },
      "source": [
        "<a href=\"https://colab.research.google.com/github/ChrisHarvey21/HABs/blob/main/HABs.ipynb\" target=\"_parent\"><img src=\"https://colab.research.google.com/assets/colab-badge.svg\" alt=\"Open In Colab\"/></a>"
      ]
    },
    {
      "cell_type": "markdown",
      "source": [
        "# **PART ONE: DATA DOWNLOAD & PRE-PROCESS CODE**"
      ],
      "metadata": {
        "id": "jMli_EXeKjDc"
      }
    },
    {
      "cell_type": "markdown",
      "source": [
        "## **The first section of this code has three parts.  1. Installation of neccessary packages. 2. downloading of data from online sources(written description). 3. Processing of downloaded data to get it into model-ready form.**"
      ],
      "metadata": {
        "id": "B22B_c1Lw1fZ"
      }
    },
    {
      "cell_type": "code",
      "source": [
        "#Part 1. Packages installation\n",
        "%%capture\n",
        "!pip install geopandas\n",
        "!pip install libpysal"
      ],
      "metadata": {
        "id": "noWxq6QrfEhD"
      },
      "execution_count": 684,
      "outputs": []
    },
    {
      "cell_type": "code",
      "source": [
        "import numpy as np\n",
        "import geopandas as gpd\n",
        "import pandas as pd\n",
        "import matplotlib.pyplot as plt\n",
        "import seaborn as sns\n",
        "import statsmodels.api as sm\n",
        "from statsmodels.stats.outliers_influence import variance_inflation_factor\n",
        "from sklearn.model_selection import cross_val_score\n",
        "from sklearn.model_selection import RepeatedKFold\n",
        "from sklearn.linear_model import Ridge\n",
        "from sklearn.linear_model import Lasso\n",
        "from sklearn.linear_model import ElasticNet\n",
        "from numpy import mean\n",
        "from numpy import std\n",
        "from numpy import absolute\n",
        "from libpysal.weights.contiguity import Queen\n",
        "import libpysal\n",
        "from statsmodels.api import OLS\n",
        "sns.set_style('white')"
      ],
      "metadata": {
        "id": "bMbxxDmYfFMo"
      },
      "execution_count": 685,
      "outputs": []
    },
    {
      "cell_type": "code",
      "source": [
        "#attach to Google Drive\n",
        "from google.colab import drive\n",
        "drive.mount('/content/drive')"
      ],
      "metadata": {
        "colab": {
          "base_uri": "https://localhost:8080/"
        },
        "id": "Nfcfd9pdiAX-",
        "outputId": "50a4ec74-ea9c-446b-ecce-a9ecea0465f5"
      },
      "execution_count": 686,
      "outputs": [
        {
          "output_type": "stream",
          "name": "stdout",
          "text": [
            "Drive already mounted at /content/drive; to attempt to forcibly remount, call drive.mount(\"/content/drive\", force_remount=True).\n"
          ]
        }
      ]
    },
    {
      "cell_type": "code",
      "source": [
        "#Part 2. Data download\n",
        "#Load in Dataset\n",
        "#Data from NYSDEC website at url \"https://nysdec.maps.arcgis.com/apps/webappviewer/index.html?id=692b72ae03f14508a0de97488e142ae1\"\n",
        "#To downlaod the data first select HABs status\n",
        "#Next filter by your lake of interest.  Skaneateles Lake ID code is 0707SKA0193\n",
        "#Finally click options and export to CSV\n",
        "#The link below imports the data from the described above downlaoded CSV.\n",
        "\n",
        "url = 'https://raw.githubusercontent.com/ChrisHarvey21/HABs/main/Lakes_%20HABs%20Status.csv'\n",
        "\n",
        "df1 = pd.read_csv(url)\n"
      ],
      "metadata": {
        "id": "J03Pgghyxjp9"
      },
      "execution_count": 687,
      "outputs": []
    },
    {
      "cell_type": "code",
      "source": [
        "#Obtain Precipitation and Temperature Data\n",
        "#The site used for data gathering is \"http://climod2.nrcc.cornell.edu/\"\n",
        "#Next proceed to the heading \"product selection\" and choose \"single station\" and \"Daily Data Listing\"\n",
        "#Next click on the tab Options Selections and choose HTML, the range of dates, and the parameters you want.\n",
        "#For this script I chose HTML, 2016-11-01 to 2022-11-03, max temp, min temp, average temp, and precipitation\n",
        "#Lastly choose your location. I selected Syracuse Hancock Airport\n",
        "#Click Go\n",
        "#To download the data I copy and pasted the data into an excel csv file.  I then uploaded it to github\n",
        "#The code below imports this data\n",
        "\n",
        "url2 = 'https://raw.githubusercontent.com/ChrisHarvey21/HABs/main/precip.csv'\n",
        "\n",
        "df2 = pd.read_csv(url2)"
      ],
      "metadata": {
        "id": "uMNohRuwzKN8"
      },
      "execution_count": 688,
      "outputs": []
    },
    {
      "cell_type": "code",
      "source": [
        "#Part 3: Data Processing to get it in proper format\n",
        "\n",
        "#Remove dates with no HABs\n",
        "df1 = df1.dropna(subset=['HS_HAB_STATUS_DATE'])\n",
        "\n",
        "#Remove uneeded columns\n",
        "df1.drop(['LOCATION_ID', 'SAMPLE_TIME','DATA_PROVIDER', 'HFD_EXTENT','INFORMATION_TYPE'], axis=1, inplace=True)"
      ],
      "metadata": {
        "colab": {
          "base_uri": "https://localhost:8080/"
        },
        "id": "ZWEC_QUiJjOQ",
        "outputId": "b81e782c-b81c-46b9-d31f-d9f2f20a1d1e"
      },
      "execution_count": 689,
      "outputs": [
        {
          "output_type": "stream",
          "name": "stderr",
          "text": [
            "/usr/local/lib/python3.7/dist-packages/pandas/core/frame.py:4913: SettingWithCopyWarning: \n",
            "A value is trying to be set on a copy of a slice from a DataFrame\n",
            "\n",
            "See the caveats in the documentation: https://pandas.pydata.org/pandas-docs/stable/user_guide/indexing.html#returning-a-view-versus-a-copy\n",
            "  errors=errors,\n"
          ]
        }
      ]
    },
    {
      "cell_type": "code",
      "source": [
        "#Split Data and Time in df1 so we can combine datasets based on time\n",
        "df1['Date'] = pd.to_datetime(df1['HS_HAB_STATUS_DATE']).dt.date\n",
        "df1['Time'] = pd.to_datetime(df1['HS_HAB_STATUS_DATE']).dt.time"
      ],
      "metadata": {
        "id": "dwSssnRB7gaO",
        "colab": {
          "base_uri": "https://localhost:8080/"
        },
        "outputId": "d8f3d712-2f9e-4da2-8ff6-2b4e36d57d64"
      },
      "execution_count": 690,
      "outputs": [
        {
          "output_type": "stream",
          "name": "stderr",
          "text": [
            "/usr/local/lib/python3.7/dist-packages/ipykernel_launcher.py:2: SettingWithCopyWarning: \n",
            "A value is trying to be set on a copy of a slice from a DataFrame.\n",
            "Try using .loc[row_indexer,col_indexer] = value instead\n",
            "\n",
            "See the caveats in the documentation: https://pandas.pydata.org/pandas-docs/stable/user_guide/indexing.html#returning-a-view-versus-a-copy\n",
            "  \n",
            "/usr/local/lib/python3.7/dist-packages/ipykernel_launcher.py:3: SettingWithCopyWarning: \n",
            "A value is trying to be set on a copy of a slice from a DataFrame.\n",
            "Try using .loc[row_indexer,col_indexer] = value instead\n",
            "\n",
            "See the caveats in the documentation: https://pandas.pydata.org/pandas-docs/stable/user_guide/indexing.html#returning-a-view-versus-a-copy\n",
            "  This is separate from the ipykernel package so we can avoid doing imports until\n"
          ]
        }
      ]
    },
    {
      "cell_type": "code",
      "source": [
        "#clean data\n",
        "df1['Date'] = pd.to_datetime(df1.Date)\n",
        "df1.info()\n",
        "\n",
        "#Check for duplicates\n",
        "df1.nunique()\n",
        "\n",
        "#remove duplicates\n",
        "df1.drop_duplicates(subset=['Date'], keep=False, inplace=True)"
      ],
      "metadata": {
        "colab": {
          "base_uri": "https://localhost:8080/"
        },
        "id": "8EVGvmGODvsk",
        "outputId": "df04a280-ff40-4b9c-ac6f-058c891c7263"
      },
      "execution_count": 691,
      "outputs": [
        {
          "output_type": "stream",
          "name": "stdout",
          "text": [
            "<class 'pandas.core.frame.DataFrame'>\n",
            "Int64Index: 100 entries, 28 to 712\n",
            "Data columns (total 6 columns):\n",
            " #   Column              Non-Null Count  Dtype         \n",
            "---  ------              --------------  -----         \n",
            " 0   LAKE_ID             100 non-null    object        \n",
            " 1   LOCATION_TYPE       100 non-null    object        \n",
            " 2   HS_HAB_STATUS       100 non-null    object        \n",
            " 3   HS_HAB_STATUS_DATE  100 non-null    object        \n",
            " 4   Date                100 non-null    datetime64[ns]\n",
            " 5   Time                100 non-null    object        \n",
            "dtypes: datetime64[ns](1), object(5)\n",
            "memory usage: 5.5+ KB\n"
          ]
        },
        {
          "output_type": "stream",
          "name": "stderr",
          "text": [
            "/usr/local/lib/python3.7/dist-packages/ipykernel_launcher.py:2: SettingWithCopyWarning: \n",
            "A value is trying to be set on a copy of a slice from a DataFrame.\n",
            "Try using .loc[row_indexer,col_indexer] = value instead\n",
            "\n",
            "See the caveats in the documentation: https://pandas.pydata.org/pandas-docs/stable/user_guide/indexing.html#returning-a-view-versus-a-copy\n",
            "  \n",
            "/usr/local/lib/python3.7/dist-packages/pandas/util/_decorators.py:311: SettingWithCopyWarning: \n",
            "A value is trying to be set on a copy of a slice from a DataFrame\n",
            "\n",
            "See the caveats in the documentation: https://pandas.pydata.org/pandas-docs/stable/user_guide/indexing.html#returning-a-view-versus-a-copy\n",
            "  return func(*args, **kwargs)\n"
          ]
        }
      ]
    },
    {
      "cell_type": "code",
      "source": [
        "#dataframe one reset index\n",
        "df1 = pd.DataFrame(df1)\n",
        "df1.reset_index()"
      ],
      "metadata": {
        "colab": {
          "base_uri": "https://localhost:8080/",
          "height": 1000
        },
        "id": "1fjSHD37F5os",
        "outputId": "b03e2dcd-101e-450c-ea7f-d693f45c1d6d"
      },
      "execution_count": 692,
      "outputs": [
        {
          "output_type": "execute_result",
          "data": {
            "text/plain": [
              "    index      LAKE_ID LOCATION_TYPE               HS_HAB_STATUS  \\\n",
              "0      28  0707SKA0193         SHORE  CONFIRMED WITH HIGH TOXINS   \n",
              "1      29  0707SKA0193         SHORE                   CONFIRMED   \n",
              "2      51  0707SKA0193         SHORE                   CONFIRMED   \n",
              "3     351  0707SKA0193         SHORE  CONFIRMED WITH HIGH TOXINS   \n",
              "4     352  0707SKA0193         SHORE                   CONFIRMED   \n",
              "5     353  0707SKA0193         SHORE                   CONFIRMED   \n",
              "6     354  0707SKA0193         SHORE  CONFIRMED WITH HIGH TOXINS   \n",
              "7     356  0707SKA0193         SHORE                   CONFIRMED   \n",
              "8     358  0707SKA0193         SHORE                   CONFIRMED   \n",
              "9     372  0707SKA0193         SHORE                  SUSPICIOUS   \n",
              "10    392  0707SKA0193         SHORE                   CONFIRMED   \n",
              "11    394  0707SKA0193         SHORE                   CONFIRMED   \n",
              "12    403  0707SKA0193         SHORE                   CONFIRMED   \n",
              "13    425  0707SKA0193         SHORE                  SUSPICIOUS   \n",
              "14    427  0707SKA0193         SHORE                   CONFIRMED   \n",
              "15    450  0707SKA0193         SHORE                   CONFIRMED   \n",
              "16    453  0707SKA0193         SHORE                   CONFIRMED   \n",
              "17    668  0707SKA0193      CENTROID                   CONFIRMED   \n",
              "18    670  0707SKA0193      CENTROID  CONFIRMED WITH HIGH TOXINS   \n",
              "19    676  0707SKA0193      CENTROID                  SUSPICIOUS   \n",
              "20    680  0707SKA0193      CENTROID                  SUSPICIOUS   \n",
              "21    681  0707SKA0193      CENTROID                  SUSPICIOUS   \n",
              "22    683  0707SKA0193      CENTROID                    NO BLOOM   \n",
              "23    685  0707SKA0193      CENTROID                    NO BLOOM   \n",
              "24    686  0707SKA0193      CENTROID                   CONFIRMED   \n",
              "25    688  0707SKA0193      CENTROID                   CONFIRMED   \n",
              "26    694  0707SKA0193         OTHER                   CONFIRMED   \n",
              "27    698  0707SKA0193         OTHER                    NO BLOOM   \n",
              "28    701  0707SKA0193         OTHER                    NO BLOOM   \n",
              "29    702  0707SKA0193         OTHER                    NO BLOOM   \n",
              "30    707  0707SKA0193         OTHER                    NO BLOOM   \n",
              "31    708  0707SKA0193         OTHER                    NO BLOOM   \n",
              "32    710  0707SKA0193         OTHER                    NO BLOOM   \n",
              "33    711  0707SKA0193         OTHER                    NO BLOOM   \n",
              "34    712  0707SKA0193         OTHER                    NO BLOOM   \n",
              "\n",
              "    HS_HAB_STATUS_DATE       Date      Time  \n",
              "0   10/4/2018, 8:00 PM 2018-10-04  20:00:00  \n",
              "1   9/18/2018, 8:00 PM 2018-09-18  20:00:00  \n",
              "2    9/8/2020, 8:00 PM 2020-09-08  20:00:00  \n",
              "3   8/16/2018, 8:00 PM 2018-08-16  20:00:00  \n",
              "4    8/8/2018, 8:00 PM 2018-08-08  20:00:00  \n",
              "5    9/4/2018, 8:00 PM 2018-09-04  20:00:00  \n",
              "6    9/6/2018, 8:00 PM 2018-09-06  20:00:00  \n",
              "7   9/27/2018, 8:00 PM 2018-09-27  20:00:00  \n",
              "8   10/8/2018, 8:00 PM 2018-10-08  20:00:00  \n",
              "9    9/8/2019, 8:00 PM 2019-09-08  20:00:00  \n",
              "10  9/14/2020, 8:00 PM 2020-09-14  20:00:00  \n",
              "11  9/16/2020, 8:00 PM 2020-09-16  20:00:00  \n",
              "12  10/8/2020, 8:00 PM 2020-10-08  20:00:00  \n",
              "13   9/9/2019, 8:00 PM 2019-09-09  20:00:00  \n",
              "14  9/30/2019, 8:00 PM 2019-09-30  20:00:00  \n",
              "15   8/9/2020, 8:00 PM 2020-08-09  20:00:00  \n",
              "16  8/12/2020, 8:00 PM 2020-08-12  20:00:00  \n",
              "17  9/28/2017, 8:00 PM 2017-09-28  20:00:00  \n",
              "18   8/9/2018, 8:00 PM 2018-08-09  20:00:00  \n",
              "19   9/3/2019, 8:00 PM 2019-09-03  20:00:00  \n",
              "20  9/15/2019, 8:00 PM 2019-09-15  20:00:00  \n",
              "21  9/16/2019, 8:00 PM 2019-09-16  20:00:00  \n",
              "22   7/5/2020, 8:00 PM 2020-07-05  20:00:00  \n",
              "23   8/2/2020, 8:00 PM 2020-08-02  20:00:00  \n",
              "24  9/15/2020, 8:00 PM 2020-09-15  20:00:00  \n",
              "25  9/21/2020, 8:00 PM 2020-09-21  20:00:00  \n",
              "26  10/4/2017, 8:00 PM 2017-10-04  20:00:00  \n",
              "27  8/15/2019, 8:00 PM 2019-08-15  20:00:00  \n",
              "28  9/18/2019, 8:00 PM 2019-09-18  20:00:00  \n",
              "29  10/1/2019, 8:00 PM 2019-10-01  20:00:00  \n",
              "30   8/6/2019, 8:00 PM 2019-08-06  20:00:00  \n",
              "31  8/21/2019, 8:00 PM 2019-08-21  20:00:00  \n",
              "32  9/25/2019, 8:00 PM 2019-09-25  20:00:00  \n",
              "33  9/19/2019, 8:00 PM 2019-09-19  20:00:00  \n",
              "34  10/2/2019, 8:00 PM 2019-10-02  20:00:00  "
            ],
            "text/html": [
              "\n",
              "  <div id=\"df-799364b9-dabf-44c2-877f-3f5106ae7459\">\n",
              "    <div class=\"colab-df-container\">\n",
              "      <div>\n",
              "<style scoped>\n",
              "    .dataframe tbody tr th:only-of-type {\n",
              "        vertical-align: middle;\n",
              "    }\n",
              "\n",
              "    .dataframe tbody tr th {\n",
              "        vertical-align: top;\n",
              "    }\n",
              "\n",
              "    .dataframe thead th {\n",
              "        text-align: right;\n",
              "    }\n",
              "</style>\n",
              "<table border=\"1\" class=\"dataframe\">\n",
              "  <thead>\n",
              "    <tr style=\"text-align: right;\">\n",
              "      <th></th>\n",
              "      <th>index</th>\n",
              "      <th>LAKE_ID</th>\n",
              "      <th>LOCATION_TYPE</th>\n",
              "      <th>HS_HAB_STATUS</th>\n",
              "      <th>HS_HAB_STATUS_DATE</th>\n",
              "      <th>Date</th>\n",
              "      <th>Time</th>\n",
              "    </tr>\n",
              "  </thead>\n",
              "  <tbody>\n",
              "    <tr>\n",
              "      <th>0</th>\n",
              "      <td>28</td>\n",
              "      <td>0707SKA0193</td>\n",
              "      <td>SHORE</td>\n",
              "      <td>CONFIRMED WITH HIGH TOXINS</td>\n",
              "      <td>10/4/2018, 8:00 PM</td>\n",
              "      <td>2018-10-04</td>\n",
              "      <td>20:00:00</td>\n",
              "    </tr>\n",
              "    <tr>\n",
              "      <th>1</th>\n",
              "      <td>29</td>\n",
              "      <td>0707SKA0193</td>\n",
              "      <td>SHORE</td>\n",
              "      <td>CONFIRMED</td>\n",
              "      <td>9/18/2018, 8:00 PM</td>\n",
              "      <td>2018-09-18</td>\n",
              "      <td>20:00:00</td>\n",
              "    </tr>\n",
              "    <tr>\n",
              "      <th>2</th>\n",
              "      <td>51</td>\n",
              "      <td>0707SKA0193</td>\n",
              "      <td>SHORE</td>\n",
              "      <td>CONFIRMED</td>\n",
              "      <td>9/8/2020, 8:00 PM</td>\n",
              "      <td>2020-09-08</td>\n",
              "      <td>20:00:00</td>\n",
              "    </tr>\n",
              "    <tr>\n",
              "      <th>3</th>\n",
              "      <td>351</td>\n",
              "      <td>0707SKA0193</td>\n",
              "      <td>SHORE</td>\n",
              "      <td>CONFIRMED WITH HIGH TOXINS</td>\n",
              "      <td>8/16/2018, 8:00 PM</td>\n",
              "      <td>2018-08-16</td>\n",
              "      <td>20:00:00</td>\n",
              "    </tr>\n",
              "    <tr>\n",
              "      <th>4</th>\n",
              "      <td>352</td>\n",
              "      <td>0707SKA0193</td>\n",
              "      <td>SHORE</td>\n",
              "      <td>CONFIRMED</td>\n",
              "      <td>8/8/2018, 8:00 PM</td>\n",
              "      <td>2018-08-08</td>\n",
              "      <td>20:00:00</td>\n",
              "    </tr>\n",
              "    <tr>\n",
              "      <th>5</th>\n",
              "      <td>353</td>\n",
              "      <td>0707SKA0193</td>\n",
              "      <td>SHORE</td>\n",
              "      <td>CONFIRMED</td>\n",
              "      <td>9/4/2018, 8:00 PM</td>\n",
              "      <td>2018-09-04</td>\n",
              "      <td>20:00:00</td>\n",
              "    </tr>\n",
              "    <tr>\n",
              "      <th>6</th>\n",
              "      <td>354</td>\n",
              "      <td>0707SKA0193</td>\n",
              "      <td>SHORE</td>\n",
              "      <td>CONFIRMED WITH HIGH TOXINS</td>\n",
              "      <td>9/6/2018, 8:00 PM</td>\n",
              "      <td>2018-09-06</td>\n",
              "      <td>20:00:00</td>\n",
              "    </tr>\n",
              "    <tr>\n",
              "      <th>7</th>\n",
              "      <td>356</td>\n",
              "      <td>0707SKA0193</td>\n",
              "      <td>SHORE</td>\n",
              "      <td>CONFIRMED</td>\n",
              "      <td>9/27/2018, 8:00 PM</td>\n",
              "      <td>2018-09-27</td>\n",
              "      <td>20:00:00</td>\n",
              "    </tr>\n",
              "    <tr>\n",
              "      <th>8</th>\n",
              "      <td>358</td>\n",
              "      <td>0707SKA0193</td>\n",
              "      <td>SHORE</td>\n",
              "      <td>CONFIRMED</td>\n",
              "      <td>10/8/2018, 8:00 PM</td>\n",
              "      <td>2018-10-08</td>\n",
              "      <td>20:00:00</td>\n",
              "    </tr>\n",
              "    <tr>\n",
              "      <th>9</th>\n",
              "      <td>372</td>\n",
              "      <td>0707SKA0193</td>\n",
              "      <td>SHORE</td>\n",
              "      <td>SUSPICIOUS</td>\n",
              "      <td>9/8/2019, 8:00 PM</td>\n",
              "      <td>2019-09-08</td>\n",
              "      <td>20:00:00</td>\n",
              "    </tr>\n",
              "    <tr>\n",
              "      <th>10</th>\n",
              "      <td>392</td>\n",
              "      <td>0707SKA0193</td>\n",
              "      <td>SHORE</td>\n",
              "      <td>CONFIRMED</td>\n",
              "      <td>9/14/2020, 8:00 PM</td>\n",
              "      <td>2020-09-14</td>\n",
              "      <td>20:00:00</td>\n",
              "    </tr>\n",
              "    <tr>\n",
              "      <th>11</th>\n",
              "      <td>394</td>\n",
              "      <td>0707SKA0193</td>\n",
              "      <td>SHORE</td>\n",
              "      <td>CONFIRMED</td>\n",
              "      <td>9/16/2020, 8:00 PM</td>\n",
              "      <td>2020-09-16</td>\n",
              "      <td>20:00:00</td>\n",
              "    </tr>\n",
              "    <tr>\n",
              "      <th>12</th>\n",
              "      <td>403</td>\n",
              "      <td>0707SKA0193</td>\n",
              "      <td>SHORE</td>\n",
              "      <td>CONFIRMED</td>\n",
              "      <td>10/8/2020, 8:00 PM</td>\n",
              "      <td>2020-10-08</td>\n",
              "      <td>20:00:00</td>\n",
              "    </tr>\n",
              "    <tr>\n",
              "      <th>13</th>\n",
              "      <td>425</td>\n",
              "      <td>0707SKA0193</td>\n",
              "      <td>SHORE</td>\n",
              "      <td>SUSPICIOUS</td>\n",
              "      <td>9/9/2019, 8:00 PM</td>\n",
              "      <td>2019-09-09</td>\n",
              "      <td>20:00:00</td>\n",
              "    </tr>\n",
              "    <tr>\n",
              "      <th>14</th>\n",
              "      <td>427</td>\n",
              "      <td>0707SKA0193</td>\n",
              "      <td>SHORE</td>\n",
              "      <td>CONFIRMED</td>\n",
              "      <td>9/30/2019, 8:00 PM</td>\n",
              "      <td>2019-09-30</td>\n",
              "      <td>20:00:00</td>\n",
              "    </tr>\n",
              "    <tr>\n",
              "      <th>15</th>\n",
              "      <td>450</td>\n",
              "      <td>0707SKA0193</td>\n",
              "      <td>SHORE</td>\n",
              "      <td>CONFIRMED</td>\n",
              "      <td>8/9/2020, 8:00 PM</td>\n",
              "      <td>2020-08-09</td>\n",
              "      <td>20:00:00</td>\n",
              "    </tr>\n",
              "    <tr>\n",
              "      <th>16</th>\n",
              "      <td>453</td>\n",
              "      <td>0707SKA0193</td>\n",
              "      <td>SHORE</td>\n",
              "      <td>CONFIRMED</td>\n",
              "      <td>8/12/2020, 8:00 PM</td>\n",
              "      <td>2020-08-12</td>\n",
              "      <td>20:00:00</td>\n",
              "    </tr>\n",
              "    <tr>\n",
              "      <th>17</th>\n",
              "      <td>668</td>\n",
              "      <td>0707SKA0193</td>\n",
              "      <td>CENTROID</td>\n",
              "      <td>CONFIRMED</td>\n",
              "      <td>9/28/2017, 8:00 PM</td>\n",
              "      <td>2017-09-28</td>\n",
              "      <td>20:00:00</td>\n",
              "    </tr>\n",
              "    <tr>\n",
              "      <th>18</th>\n",
              "      <td>670</td>\n",
              "      <td>0707SKA0193</td>\n",
              "      <td>CENTROID</td>\n",
              "      <td>CONFIRMED WITH HIGH TOXINS</td>\n",
              "      <td>8/9/2018, 8:00 PM</td>\n",
              "      <td>2018-08-09</td>\n",
              "      <td>20:00:00</td>\n",
              "    </tr>\n",
              "    <tr>\n",
              "      <th>19</th>\n",
              "      <td>676</td>\n",
              "      <td>0707SKA0193</td>\n",
              "      <td>CENTROID</td>\n",
              "      <td>SUSPICIOUS</td>\n",
              "      <td>9/3/2019, 8:00 PM</td>\n",
              "      <td>2019-09-03</td>\n",
              "      <td>20:00:00</td>\n",
              "    </tr>\n",
              "    <tr>\n",
              "      <th>20</th>\n",
              "      <td>680</td>\n",
              "      <td>0707SKA0193</td>\n",
              "      <td>CENTROID</td>\n",
              "      <td>SUSPICIOUS</td>\n",
              "      <td>9/15/2019, 8:00 PM</td>\n",
              "      <td>2019-09-15</td>\n",
              "      <td>20:00:00</td>\n",
              "    </tr>\n",
              "    <tr>\n",
              "      <th>21</th>\n",
              "      <td>681</td>\n",
              "      <td>0707SKA0193</td>\n",
              "      <td>CENTROID</td>\n",
              "      <td>SUSPICIOUS</td>\n",
              "      <td>9/16/2019, 8:00 PM</td>\n",
              "      <td>2019-09-16</td>\n",
              "      <td>20:00:00</td>\n",
              "    </tr>\n",
              "    <tr>\n",
              "      <th>22</th>\n",
              "      <td>683</td>\n",
              "      <td>0707SKA0193</td>\n",
              "      <td>CENTROID</td>\n",
              "      <td>NO BLOOM</td>\n",
              "      <td>7/5/2020, 8:00 PM</td>\n",
              "      <td>2020-07-05</td>\n",
              "      <td>20:00:00</td>\n",
              "    </tr>\n",
              "    <tr>\n",
              "      <th>23</th>\n",
              "      <td>685</td>\n",
              "      <td>0707SKA0193</td>\n",
              "      <td>CENTROID</td>\n",
              "      <td>NO BLOOM</td>\n",
              "      <td>8/2/2020, 8:00 PM</td>\n",
              "      <td>2020-08-02</td>\n",
              "      <td>20:00:00</td>\n",
              "    </tr>\n",
              "    <tr>\n",
              "      <th>24</th>\n",
              "      <td>686</td>\n",
              "      <td>0707SKA0193</td>\n",
              "      <td>CENTROID</td>\n",
              "      <td>CONFIRMED</td>\n",
              "      <td>9/15/2020, 8:00 PM</td>\n",
              "      <td>2020-09-15</td>\n",
              "      <td>20:00:00</td>\n",
              "    </tr>\n",
              "    <tr>\n",
              "      <th>25</th>\n",
              "      <td>688</td>\n",
              "      <td>0707SKA0193</td>\n",
              "      <td>CENTROID</td>\n",
              "      <td>CONFIRMED</td>\n",
              "      <td>9/21/2020, 8:00 PM</td>\n",
              "      <td>2020-09-21</td>\n",
              "      <td>20:00:00</td>\n",
              "    </tr>\n",
              "    <tr>\n",
              "      <th>26</th>\n",
              "      <td>694</td>\n",
              "      <td>0707SKA0193</td>\n",
              "      <td>OTHER</td>\n",
              "      <td>CONFIRMED</td>\n",
              "      <td>10/4/2017, 8:00 PM</td>\n",
              "      <td>2017-10-04</td>\n",
              "      <td>20:00:00</td>\n",
              "    </tr>\n",
              "    <tr>\n",
              "      <th>27</th>\n",
              "      <td>698</td>\n",
              "      <td>0707SKA0193</td>\n",
              "      <td>OTHER</td>\n",
              "      <td>NO BLOOM</td>\n",
              "      <td>8/15/2019, 8:00 PM</td>\n",
              "      <td>2019-08-15</td>\n",
              "      <td>20:00:00</td>\n",
              "    </tr>\n",
              "    <tr>\n",
              "      <th>28</th>\n",
              "      <td>701</td>\n",
              "      <td>0707SKA0193</td>\n",
              "      <td>OTHER</td>\n",
              "      <td>NO BLOOM</td>\n",
              "      <td>9/18/2019, 8:00 PM</td>\n",
              "      <td>2019-09-18</td>\n",
              "      <td>20:00:00</td>\n",
              "    </tr>\n",
              "    <tr>\n",
              "      <th>29</th>\n",
              "      <td>702</td>\n",
              "      <td>0707SKA0193</td>\n",
              "      <td>OTHER</td>\n",
              "      <td>NO BLOOM</td>\n",
              "      <td>10/1/2019, 8:00 PM</td>\n",
              "      <td>2019-10-01</td>\n",
              "      <td>20:00:00</td>\n",
              "    </tr>\n",
              "    <tr>\n",
              "      <th>30</th>\n",
              "      <td>707</td>\n",
              "      <td>0707SKA0193</td>\n",
              "      <td>OTHER</td>\n",
              "      <td>NO BLOOM</td>\n",
              "      <td>8/6/2019, 8:00 PM</td>\n",
              "      <td>2019-08-06</td>\n",
              "      <td>20:00:00</td>\n",
              "    </tr>\n",
              "    <tr>\n",
              "      <th>31</th>\n",
              "      <td>708</td>\n",
              "      <td>0707SKA0193</td>\n",
              "      <td>OTHER</td>\n",
              "      <td>NO BLOOM</td>\n",
              "      <td>8/21/2019, 8:00 PM</td>\n",
              "      <td>2019-08-21</td>\n",
              "      <td>20:00:00</td>\n",
              "    </tr>\n",
              "    <tr>\n",
              "      <th>32</th>\n",
              "      <td>710</td>\n",
              "      <td>0707SKA0193</td>\n",
              "      <td>OTHER</td>\n",
              "      <td>NO BLOOM</td>\n",
              "      <td>9/25/2019, 8:00 PM</td>\n",
              "      <td>2019-09-25</td>\n",
              "      <td>20:00:00</td>\n",
              "    </tr>\n",
              "    <tr>\n",
              "      <th>33</th>\n",
              "      <td>711</td>\n",
              "      <td>0707SKA0193</td>\n",
              "      <td>OTHER</td>\n",
              "      <td>NO BLOOM</td>\n",
              "      <td>9/19/2019, 8:00 PM</td>\n",
              "      <td>2019-09-19</td>\n",
              "      <td>20:00:00</td>\n",
              "    </tr>\n",
              "    <tr>\n",
              "      <th>34</th>\n",
              "      <td>712</td>\n",
              "      <td>0707SKA0193</td>\n",
              "      <td>OTHER</td>\n",
              "      <td>NO BLOOM</td>\n",
              "      <td>10/2/2019, 8:00 PM</td>\n",
              "      <td>2019-10-02</td>\n",
              "      <td>20:00:00</td>\n",
              "    </tr>\n",
              "  </tbody>\n",
              "</table>\n",
              "</div>\n",
              "      <button class=\"colab-df-convert\" onclick=\"convertToInteractive('df-799364b9-dabf-44c2-877f-3f5106ae7459')\"\n",
              "              title=\"Convert this dataframe to an interactive table.\"\n",
              "              style=\"display:none;\">\n",
              "        \n",
              "  <svg xmlns=\"http://www.w3.org/2000/svg\" height=\"24px\"viewBox=\"0 0 24 24\"\n",
              "       width=\"24px\">\n",
              "    <path d=\"M0 0h24v24H0V0z\" fill=\"none\"/>\n",
              "    <path d=\"M18.56 5.44l.94 2.06.94-2.06 2.06-.94-2.06-.94-.94-2.06-.94 2.06-2.06.94zm-11 1L8.5 8.5l.94-2.06 2.06-.94-2.06-.94L8.5 2.5l-.94 2.06-2.06.94zm10 10l.94 2.06.94-2.06 2.06-.94-2.06-.94-.94-2.06-.94 2.06-2.06.94z\"/><path d=\"M17.41 7.96l-1.37-1.37c-.4-.4-.92-.59-1.43-.59-.52 0-1.04.2-1.43.59L10.3 9.45l-7.72 7.72c-.78.78-.78 2.05 0 2.83L4 21.41c.39.39.9.59 1.41.59.51 0 1.02-.2 1.41-.59l7.78-7.78 2.81-2.81c.8-.78.8-2.07 0-2.86zM5.41 20L4 18.59l7.72-7.72 1.47 1.35L5.41 20z\"/>\n",
              "  </svg>\n",
              "      </button>\n",
              "      \n",
              "  <style>\n",
              "    .colab-df-container {\n",
              "      display:flex;\n",
              "      flex-wrap:wrap;\n",
              "      gap: 12px;\n",
              "    }\n",
              "\n",
              "    .colab-df-convert {\n",
              "      background-color: #E8F0FE;\n",
              "      border: none;\n",
              "      border-radius: 50%;\n",
              "      cursor: pointer;\n",
              "      display: none;\n",
              "      fill: #1967D2;\n",
              "      height: 32px;\n",
              "      padding: 0 0 0 0;\n",
              "      width: 32px;\n",
              "    }\n",
              "\n",
              "    .colab-df-convert:hover {\n",
              "      background-color: #E2EBFA;\n",
              "      box-shadow: 0px 1px 2px rgba(60, 64, 67, 0.3), 0px 1px 3px 1px rgba(60, 64, 67, 0.15);\n",
              "      fill: #174EA6;\n",
              "    }\n",
              "\n",
              "    [theme=dark] .colab-df-convert {\n",
              "      background-color: #3B4455;\n",
              "      fill: #D2E3FC;\n",
              "    }\n",
              "\n",
              "    [theme=dark] .colab-df-convert:hover {\n",
              "      background-color: #434B5C;\n",
              "      box-shadow: 0px 1px 3px 1px rgba(0, 0, 0, 0.15);\n",
              "      filter: drop-shadow(0px 1px 2px rgba(0, 0, 0, 0.3));\n",
              "      fill: #FFFFFF;\n",
              "    }\n",
              "  </style>\n",
              "\n",
              "      <script>\n",
              "        const buttonEl =\n",
              "          document.querySelector('#df-799364b9-dabf-44c2-877f-3f5106ae7459 button.colab-df-convert');\n",
              "        buttonEl.style.display =\n",
              "          google.colab.kernel.accessAllowed ? 'block' : 'none';\n",
              "\n",
              "        async function convertToInteractive(key) {\n",
              "          const element = document.querySelector('#df-799364b9-dabf-44c2-877f-3f5106ae7459');\n",
              "          const dataTable =\n",
              "            await google.colab.kernel.invokeFunction('convertToInteractive',\n",
              "                                                     [key], {});\n",
              "          if (!dataTable) return;\n",
              "\n",
              "          const docLinkHtml = 'Like what you see? Visit the ' +\n",
              "            '<a target=\"_blank\" href=https://colab.research.google.com/notebooks/data_table.ipynb>data table notebook</a>'\n",
              "            + ' to learn more about interactive tables.';\n",
              "          element.innerHTML = '';\n",
              "          dataTable['output_type'] = 'display_data';\n",
              "          await google.colab.output.renderOutput(dataTable, element);\n",
              "          const docLink = document.createElement('div');\n",
              "          docLink.innerHTML = docLinkHtml;\n",
              "          element.appendChild(docLink);\n",
              "        }\n",
              "      </script>\n",
              "    </div>\n",
              "  </div>\n",
              "  "
            ]
          },
          "metadata": {},
          "execution_count": 692
        }
      ]
    },
    {
      "cell_type": "code",
      "source": [
        "#change the date type of data set 2 so both can be merged together\n",
        "df2['Date'] = pd.to_datetime(df2.Date)\n",
        "df2['Date1'] = pd.to_datetime(df2.Date)\n",
        "df2['Date2'] = pd.to_datetime(df2.Date)\n",
        "\n",
        "#Replace nonnumeric values with NaN\n",
        "df2 = df2.replace('M', np.nan)\n",
        "df2 = df2.replace('T', np.nan)\n",
        "df2 = pd.DataFrame(df2)\n",
        "df2.reset_index"
      ],
      "metadata": {
        "colab": {
          "base_uri": "https://localhost:8080/"
        },
        "id": "Qu7PkVuUN41y",
        "outputId": "92d2c793-1177-4287-8df4-3130abea8d81"
      },
      "execution_count": 693,
      "outputs": [
        {
          "output_type": "execute_result",
          "data": {
            "text/plain": [
              "<bound method DataFrame.reset_index of            Date Max_Temp Min_Temp Avg_Temp Precip      Date1      Date2\n",
              "0    2016-11-01       60       28       44      0 2016-11-01 2016-11-01\n",
              "1    2016-11-02       61       45       53   0.19 2016-11-02 2016-11-02\n",
              "2    2016-11-03       56       47     51.5   0.65 2016-11-03 2016-11-03\n",
              "3    2016-11-04       49       37       43   0.02 2016-11-04 2016-11-04\n",
              "4    2016-11-05       58       44       51      0 2016-11-05 2016-11-05\n",
              "...         ...      ...      ...      ...    ...        ...        ...\n",
              "2189 2022-10-30       68       30       49      0 2022-10-30 2022-10-30\n",
              "2190 2022-10-31       64       39     51.5    NaN 2022-10-31 2022-10-31\n",
              "2191 2022-11-01       67       49       58    NaN 2022-11-01 2022-11-01\n",
              "2192 2022-11-02       65       45       55      0 2022-11-02 2022-11-02\n",
              "2193 2022-11-03      NaN      NaN      NaN    NaN 2022-11-03 2022-11-03\n",
              "\n",
              "[2194 rows x 7 columns]>"
            ]
          },
          "metadata": {},
          "execution_count": 693
        }
      ]
    },
    {
      "cell_type": "code",
      "source": [
        "#merge data sets together\n",
        "merge = pd.merge(df1, df2, how='outer', on = 'Date')"
      ],
      "metadata": {
        "id": "4Utr0RjRPM4R"
      },
      "execution_count": 694,
      "outputs": []
    },
    {
      "cell_type": "code",
      "source": [
        "#add new column for severity\n",
        "merge['severity'] = np.nan"
      ],
      "metadata": {
        "id": "O1o1vu2jQFIp"
      },
      "execution_count": 695,
      "outputs": []
    },
    {
      "cell_type": "code",
      "source": [
        "#Create new column with algal severity\n",
        "merge.loc[merge['HS_HAB_STATUS'] == 'NO BLOOM', 'severity'] = '0'  \n",
        "merge.loc[merge['HS_HAB_STATUS'] == 'CONFIRMED WITH HIGH TOXINS', 'severity'] = '3'  \n",
        "merge.loc[merge['HS_HAB_STATUS'] == 'CONFIRMED', 'severity'] = '2'  \n",
        "merge.loc[merge['HS_HAB_STATUS'] == 'SUSPICIOUS', 'severity'] = '1'  "
      ],
      "metadata": {
        "id": "F2dze912Se46"
      },
      "execution_count": 696,
      "outputs": []
    },
    {
      "cell_type": "code",
      "source": [
        "#Add one/two day before date to dataframe\n",
        "merge['Date1'] = merge['Date'] + pd.Timedelta(days=-1)\n",
        "merge['Date2'] = merge['Date'] + pd.Timedelta(days=-2)"
      ],
      "metadata": {
        "id": "nJvxNdfAvOSj"
      },
      "execution_count": 697,
      "outputs": []
    },
    {
      "cell_type": "code",
      "source": [
        "#Remove all columns from df2 expcept date and precipitation\n",
        "df2.drop(['Max_Temp', 'Min_Temp','Avg_Temp'], axis=1, inplace=True)\n"
      ],
      "metadata": {
        "id": "WAjURs6hxpSC"
      },
      "execution_count": 698,
      "outputs": []
    },
    {
      "cell_type": "code",
      "source": [
        "#Create two seperate pandas to use\n",
        "df3 = df2.copy()\n",
        "df4 = df2.copy()"
      ],
      "metadata": {
        "id": "OSDSWRNK3CrC"
      },
      "execution_count": 699,
      "outputs": []
    },
    {
      "cell_type": "code",
      "source": [
        "#Remove columns not needed in each\n",
        "df3.drop(['Date', 'Date2'], axis=1, inplace=True)\n",
        "df4.drop(['Date', 'Date1'], axis=1, inplace=True)"
      ],
      "metadata": {
        "id": "l4NBau_F3W2R"
      },
      "execution_count": 700,
      "outputs": []
    },
    {
      "cell_type": "code",
      "source": [
        "#Rename columns\n",
        "df3 = df3.rename(columns={'Precip': 'Precip1'})\n",
        "df4 = df4.rename(columns={'Precip': 'Precip2'})"
      ],
      "metadata": {
        "id": "zWomxllg4ujx"
      },
      "execution_count": 701,
      "outputs": []
    },
    {
      "cell_type": "code",
      "source": [
        "#Merge df2 together based on the first subtracted date\n",
        "#dataframe one reset index\n",
        "merge = pd.DataFrame(merge)\n",
        "merge.reset_index()\n",
        "\n",
        "#change the date type of data set 2 so both can be merged together\n",
        "df3['Date1'] = pd.to_datetime(df3.Date1)\n",
        "df3 = pd.DataFrame(df3)\n",
        "df3.reset_index\n",
        "\n",
        "#merge together with Date 1\n",
        "merge1 = pd.merge(merge, df3, how='outer', on = 'Date1')"
      ],
      "metadata": {
        "id": "gWAw5R0hwUci"
      },
      "execution_count": 702,
      "outputs": []
    },
    {
      "cell_type": "code",
      "source": [
        "#Repeat for second date range\n",
        "merge1 = pd.DataFrame(merge1)\n",
        "merge1.reset_index()\n",
        "\n",
        "#change the date type of data set 2 so both can be merged together\n",
        "df4['Date2'] = pd.to_datetime(df4.Date2)\n",
        "df4 = pd.DataFrame(df4)\n",
        "df4.reset_index\n",
        "\n",
        "#merge together with Date 1\n",
        "merge2 = pd.merge(merge1, df4, how='outer', on = 'Date2')"
      ],
      "metadata": {
        "id": "tBqcGfpR0273"
      },
      "execution_count": 703,
      "outputs": []
    },
    {
      "cell_type": "code",
      "source": [
        "#Remove uneeded Columns\n",
        "merge2.drop(['HS_HAB_STATUS_DATE', 'Time', 'Date1', 'Date2'], axis=1, inplace=True)\n"
      ],
      "metadata": {
        "id": "_YikAqIjGuO0"
      },
      "execution_count": 704,
      "outputs": []
    },
    {
      "cell_type": "code",
      "source": [
        "#Convert all numeric columns to numeric\n",
        "merge2[['Precip', 'Precip1' , 'Precip2', 'Max_Temp','Min_Temp','Avg_Temp','severity']]  = merge2[['Precip','Precip1','Precip2', 'Max_Temp','Min_Temp','Avg_Temp','severity']].apply(pd.to_numeric)\n",
        "\n",
        "#change NAN values to 0 for precipitation columns\n",
        "merge2 = pd.DataFrame(merge2)\n",
        "merge2[['Precip','Precip1','Precip2']] = merge2[['Precip','Precip1','Precip2']].fillna(0)"
      ],
      "metadata": {
        "id": "mpl7NEYfFlY7"
      },
      "execution_count": 705,
      "outputs": []
    },
    {
      "cell_type": "code",
      "source": [
        "#Create 3-day sum precipiation column\n",
        "merge2['PrecipSum'] = merge2['Precip'] + merge2['Precip1'] + merge2['Precip2']"
      ],
      "metadata": {
        "id": "fOXvKwpYHLr1"
      },
      "execution_count": 706,
      "outputs": []
    },
    {
      "cell_type": "code",
      "source": [
        "#Clean up extra data from precipitation\n",
        "final=merge2.dropna()\n",
        "final=merge2.dropna(axis=0)\n",
        "final.head()"
      ],
      "metadata": {
        "colab": {
          "base_uri": "https://localhost:8080/",
          "height": 392
        },
        "id": "mmGXwzY4I-ij",
        "outputId": "fbff3eed-1494-4dfd-f153-e313b827bf3b"
      },
      "execution_count": 707,
      "outputs": [
        {
          "output_type": "execute_result",
          "data": {
            "text/plain": [
              "       LAKE_ID LOCATION_TYPE               HS_HAB_STATUS       Date  Max_Temp  \\\n",
              "0  0707SKA0193         SHORE  CONFIRMED WITH HIGH TOXINS 2018-10-04      71.0   \n",
              "1  0707SKA0193         SHORE                   CONFIRMED 2018-09-18      81.0   \n",
              "2  0707SKA0193         SHORE                   CONFIRMED 2020-09-08      86.0   \n",
              "3  0707SKA0193         SHORE  CONFIRMED WITH HIGH TOXINS 2018-08-16      86.0   \n",
              "4  0707SKA0193         SHORE                   CONFIRMED 2018-08-08      81.0   \n",
              "\n",
              "   Min_Temp  Avg_Temp  Precip  severity  Precip1  Precip2  PrecipSum  \n",
              "0      51.0      61.0    0.10       3.0     0.00     0.58       0.68  \n",
              "1      64.0      72.5    0.07       2.0     0.24     0.00       0.31  \n",
              "2      64.0      75.0    0.00       2.0     0.00     0.00       0.00  \n",
              "3      70.0      78.0    0.00       3.0     0.00     0.30       0.30  \n",
              "4      65.0      73.0    0.67       2.0     0.00     0.52       1.19  "
            ],
            "text/html": [
              "\n",
              "  <div id=\"df-296791f0-0d30-44e0-9279-e77ac2c0aba9\">\n",
              "    <div class=\"colab-df-container\">\n",
              "      <div>\n",
              "<style scoped>\n",
              "    .dataframe tbody tr th:only-of-type {\n",
              "        vertical-align: middle;\n",
              "    }\n",
              "\n",
              "    .dataframe tbody tr th {\n",
              "        vertical-align: top;\n",
              "    }\n",
              "\n",
              "    .dataframe thead th {\n",
              "        text-align: right;\n",
              "    }\n",
              "</style>\n",
              "<table border=\"1\" class=\"dataframe\">\n",
              "  <thead>\n",
              "    <tr style=\"text-align: right;\">\n",
              "      <th></th>\n",
              "      <th>LAKE_ID</th>\n",
              "      <th>LOCATION_TYPE</th>\n",
              "      <th>HS_HAB_STATUS</th>\n",
              "      <th>Date</th>\n",
              "      <th>Max_Temp</th>\n",
              "      <th>Min_Temp</th>\n",
              "      <th>Avg_Temp</th>\n",
              "      <th>Precip</th>\n",
              "      <th>severity</th>\n",
              "      <th>Precip1</th>\n",
              "      <th>Precip2</th>\n",
              "      <th>PrecipSum</th>\n",
              "    </tr>\n",
              "  </thead>\n",
              "  <tbody>\n",
              "    <tr>\n",
              "      <th>0</th>\n",
              "      <td>0707SKA0193</td>\n",
              "      <td>SHORE</td>\n",
              "      <td>CONFIRMED WITH HIGH TOXINS</td>\n",
              "      <td>2018-10-04</td>\n",
              "      <td>71.0</td>\n",
              "      <td>51.0</td>\n",
              "      <td>61.0</td>\n",
              "      <td>0.10</td>\n",
              "      <td>3.0</td>\n",
              "      <td>0.00</td>\n",
              "      <td>0.58</td>\n",
              "      <td>0.68</td>\n",
              "    </tr>\n",
              "    <tr>\n",
              "      <th>1</th>\n",
              "      <td>0707SKA0193</td>\n",
              "      <td>SHORE</td>\n",
              "      <td>CONFIRMED</td>\n",
              "      <td>2018-09-18</td>\n",
              "      <td>81.0</td>\n",
              "      <td>64.0</td>\n",
              "      <td>72.5</td>\n",
              "      <td>0.07</td>\n",
              "      <td>2.0</td>\n",
              "      <td>0.24</td>\n",
              "      <td>0.00</td>\n",
              "      <td>0.31</td>\n",
              "    </tr>\n",
              "    <tr>\n",
              "      <th>2</th>\n",
              "      <td>0707SKA0193</td>\n",
              "      <td>SHORE</td>\n",
              "      <td>CONFIRMED</td>\n",
              "      <td>2020-09-08</td>\n",
              "      <td>86.0</td>\n",
              "      <td>64.0</td>\n",
              "      <td>75.0</td>\n",
              "      <td>0.00</td>\n",
              "      <td>2.0</td>\n",
              "      <td>0.00</td>\n",
              "      <td>0.00</td>\n",
              "      <td>0.00</td>\n",
              "    </tr>\n",
              "    <tr>\n",
              "      <th>3</th>\n",
              "      <td>0707SKA0193</td>\n",
              "      <td>SHORE</td>\n",
              "      <td>CONFIRMED WITH HIGH TOXINS</td>\n",
              "      <td>2018-08-16</td>\n",
              "      <td>86.0</td>\n",
              "      <td>70.0</td>\n",
              "      <td>78.0</td>\n",
              "      <td>0.00</td>\n",
              "      <td>3.0</td>\n",
              "      <td>0.00</td>\n",
              "      <td>0.30</td>\n",
              "      <td>0.30</td>\n",
              "    </tr>\n",
              "    <tr>\n",
              "      <th>4</th>\n",
              "      <td>0707SKA0193</td>\n",
              "      <td>SHORE</td>\n",
              "      <td>CONFIRMED</td>\n",
              "      <td>2018-08-08</td>\n",
              "      <td>81.0</td>\n",
              "      <td>65.0</td>\n",
              "      <td>73.0</td>\n",
              "      <td>0.67</td>\n",
              "      <td>2.0</td>\n",
              "      <td>0.00</td>\n",
              "      <td>0.52</td>\n",
              "      <td>1.19</td>\n",
              "    </tr>\n",
              "  </tbody>\n",
              "</table>\n",
              "</div>\n",
              "      <button class=\"colab-df-convert\" onclick=\"convertToInteractive('df-296791f0-0d30-44e0-9279-e77ac2c0aba9')\"\n",
              "              title=\"Convert this dataframe to an interactive table.\"\n",
              "              style=\"display:none;\">\n",
              "        \n",
              "  <svg xmlns=\"http://www.w3.org/2000/svg\" height=\"24px\"viewBox=\"0 0 24 24\"\n",
              "       width=\"24px\">\n",
              "    <path d=\"M0 0h24v24H0V0z\" fill=\"none\"/>\n",
              "    <path d=\"M18.56 5.44l.94 2.06.94-2.06 2.06-.94-2.06-.94-.94-2.06-.94 2.06-2.06.94zm-11 1L8.5 8.5l.94-2.06 2.06-.94-2.06-.94L8.5 2.5l-.94 2.06-2.06.94zm10 10l.94 2.06.94-2.06 2.06-.94-2.06-.94-.94-2.06-.94 2.06-2.06.94z\"/><path d=\"M17.41 7.96l-1.37-1.37c-.4-.4-.92-.59-1.43-.59-.52 0-1.04.2-1.43.59L10.3 9.45l-7.72 7.72c-.78.78-.78 2.05 0 2.83L4 21.41c.39.39.9.59 1.41.59.51 0 1.02-.2 1.41-.59l7.78-7.78 2.81-2.81c.8-.78.8-2.07 0-2.86zM5.41 20L4 18.59l7.72-7.72 1.47 1.35L5.41 20z\"/>\n",
              "  </svg>\n",
              "      </button>\n",
              "      \n",
              "  <style>\n",
              "    .colab-df-container {\n",
              "      display:flex;\n",
              "      flex-wrap:wrap;\n",
              "      gap: 12px;\n",
              "    }\n",
              "\n",
              "    .colab-df-convert {\n",
              "      background-color: #E8F0FE;\n",
              "      border: none;\n",
              "      border-radius: 50%;\n",
              "      cursor: pointer;\n",
              "      display: none;\n",
              "      fill: #1967D2;\n",
              "      height: 32px;\n",
              "      padding: 0 0 0 0;\n",
              "      width: 32px;\n",
              "    }\n",
              "\n",
              "    .colab-df-convert:hover {\n",
              "      background-color: #E2EBFA;\n",
              "      box-shadow: 0px 1px 2px rgba(60, 64, 67, 0.3), 0px 1px 3px 1px rgba(60, 64, 67, 0.15);\n",
              "      fill: #174EA6;\n",
              "    }\n",
              "\n",
              "    [theme=dark] .colab-df-convert {\n",
              "      background-color: #3B4455;\n",
              "      fill: #D2E3FC;\n",
              "    }\n",
              "\n",
              "    [theme=dark] .colab-df-convert:hover {\n",
              "      background-color: #434B5C;\n",
              "      box-shadow: 0px 1px 3px 1px rgba(0, 0, 0, 0.15);\n",
              "      filter: drop-shadow(0px 1px 2px rgba(0, 0, 0, 0.3));\n",
              "      fill: #FFFFFF;\n",
              "    }\n",
              "  </style>\n",
              "\n",
              "      <script>\n",
              "        const buttonEl =\n",
              "          document.querySelector('#df-296791f0-0d30-44e0-9279-e77ac2c0aba9 button.colab-df-convert');\n",
              "        buttonEl.style.display =\n",
              "          google.colab.kernel.accessAllowed ? 'block' : 'none';\n",
              "\n",
              "        async function convertToInteractive(key) {\n",
              "          const element = document.querySelector('#df-296791f0-0d30-44e0-9279-e77ac2c0aba9');\n",
              "          const dataTable =\n",
              "            await google.colab.kernel.invokeFunction('convertToInteractive',\n",
              "                                                     [key], {});\n",
              "          if (!dataTable) return;\n",
              "\n",
              "          const docLinkHtml = 'Like what you see? Visit the ' +\n",
              "            '<a target=\"_blank\" href=https://colab.research.google.com/notebooks/data_table.ipynb>data table notebook</a>'\n",
              "            + ' to learn more about interactive tables.';\n",
              "          element.innerHTML = '';\n",
              "          dataTable['output_type'] = 'display_data';\n",
              "          await google.colab.output.renderOutput(dataTable, element);\n",
              "          const docLink = document.createElement('div');\n",
              "          docLink.innerHTML = docLinkHtml;\n",
              "          element.appendChild(docLink);\n",
              "        }\n",
              "      </script>\n",
              "    </div>\n",
              "  </div>\n",
              "  "
            ]
          },
          "metadata": {},
          "execution_count": 707
        }
      ]
    },
    {
      "cell_type": "markdown",
      "source": [
        "### **END OF DATA PROCESSING(Ignore rest of document for data processing assignment**"
      ],
      "metadata": {
        "id": "kqWK0S8AIphK"
      }
    },
    {
      "cell_type": "markdown",
      "source": [
        "# **PART TWO: MODEL TRAIN AND VALIDATE CODE**"
      ],
      "metadata": {
        "id": "I82EFfsvdUDI"
      }
    },
    {
      "cell_type": "code",
      "source": [
        "#Create a scatterplot to look for collinearity\n",
        "#Create subset of habs called mylist\n",
        "my_list = [\"Date\", \"Max_Temp\", \"Min_Temp\", \"Avg_Temp\" , \"Precip\", \"Precip1\", \"Precip2\",\"PrecipSum\",\"severity\"]    \n",
        "\n",
        "#check to make sure all your columns are there:\n",
        "final[my_list].head()\n",
        "\n",
        "#Seaborn.pairplot to plot a scatterplot matrix\n",
        "#sns.pairplot(final[my_list],diag_kind='')\n",
        "\n",
        "#We can see there is colinearity between the max, min, and average temp and some between the precips and sum precip which is expected"
      ],
      "metadata": {
        "id": "GHNdchSQm0qT",
        "colab": {
          "base_uri": "https://localhost:8080/",
          "height": 664
        },
        "outputId": "9bbf434f-1154-4476-de07-2a6928cdc5ed"
      },
      "execution_count": 708,
      "outputs": [
        {
          "output_type": "execute_result",
          "data": {
            "text/plain": [
              "<seaborn.axisgrid.PairGrid at 0x7f9722cd5990>"
            ]
          },
          "metadata": {},
          "execution_count": 708
        },
        {
          "output_type": "display_data",
          "data": {
            "text/plain": [
              "<Figure size 1440x1440 with 64 Axes>"
            ],
            "image/png": "[encoded data removed]"
          },
          "metadata": {}
        }
      ]
    },
    {
      "cell_type": "code",
      "source": [
        "#Do VIF, if any are greater than 10 we have to either throw out predictor variables that arent important or add on bias reducers\n",
        "#Calculate VIFs on our dataset\n",
        "my_list1 = [\"Date\", \"Max_Temp\", \"Min_Temp\", \"Avg_Temp\" , \"Precip\", \"Precip1\", \"Precip2\",\"PrecipSum\"]    \n",
        "vif = pd.DataFrame()\n",
        "vif[\"VIF Factor\"] = [variance_inflation_factor(final[my_list1[1:8]].values, i) for i in range(final[my_list1[1:8]].shape[1])]\n",
        "vif[\"features\"] = final[my_list1[1:8]].columns\n",
        "\n",
        "vif.round()\n"
      ],
      "metadata": {
        "colab": {
          "base_uri": "https://localhost:8080/",
          "height": 324
        },
        "id": "MHRQSv_3nP0L",
        "outputId": "b84897fe-027f-44a5-c9c1-63f7326c06c7"
      },
      "execution_count": 709,
      "outputs": [
        {
          "output_type": "stream",
          "name": "stderr",
          "text": [
            "/usr/local/lib/python3.7/dist-packages/statsmodels/stats/outliers_influence.py:193: RuntimeWarning: divide by zero encountered in double_scalars\n",
            "  vif = 1. / (1. - r_squared_i)\n"
          ]
        },
        {
          "output_type": "execute_result",
          "data": {
            "text/plain": [
              "   VIF Factor   features\n",
              "0         inf   Max_Temp\n",
              "1         inf   Min_Temp\n",
              "2         inf   Avg_Temp\n",
              "3         inf     Precip\n",
              "4         inf    Precip1\n",
              "5         inf    Precip2\n",
              "6         inf  PrecipSum"
            ],
            "text/html": [
              "\n",
              "  <div id=\"df-28aa7e42-2718-4543-8695-1724c828035b\">\n",
              "    <div class=\"colab-df-container\">\n",
              "      <div>\n",
              "<style scoped>\n",
              "    .dataframe tbody tr th:only-of-type {\n",
              "        vertical-align: middle;\n",
              "    }\n",
              "\n",
              "    .dataframe tbody tr th {\n",
              "        vertical-align: top;\n",
              "    }\n",
              "\n",
              "    .dataframe thead th {\n",
              "        text-align: right;\n",
              "    }\n",
              "</style>\n",
              "<table border=\"1\" class=\"dataframe\">\n",
              "  <thead>\n",
              "    <tr style=\"text-align: right;\">\n",
              "      <th></th>\n",
              "      <th>VIF Factor</th>\n",
              "      <th>features</th>\n",
              "    </tr>\n",
              "  </thead>\n",
              "  <tbody>\n",
              "    <tr>\n",
              "      <th>0</th>\n",
              "      <td>inf</td>\n",
              "      <td>Max_Temp</td>\n",
              "    </tr>\n",
              "    <tr>\n",
              "      <th>1</th>\n",
              "      <td>inf</td>\n",
              "      <td>Min_Temp</td>\n",
              "    </tr>\n",
              "    <tr>\n",
              "      <th>2</th>\n",
              "      <td>inf</td>\n",
              "      <td>Avg_Temp</td>\n",
              "    </tr>\n",
              "    <tr>\n",
              "      <th>3</th>\n",
              "      <td>inf</td>\n",
              "      <td>Precip</td>\n",
              "    </tr>\n",
              "    <tr>\n",
              "      <th>4</th>\n",
              "      <td>inf</td>\n",
              "      <td>Precip1</td>\n",
              "    </tr>\n",
              "    <tr>\n",
              "      <th>5</th>\n",
              "      <td>inf</td>\n",
              "      <td>Precip2</td>\n",
              "    </tr>\n",
              "    <tr>\n",
              "      <th>6</th>\n",
              "      <td>inf</td>\n",
              "      <td>PrecipSum</td>\n",
              "    </tr>\n",
              "  </tbody>\n",
              "</table>\n",
              "</div>\n",
              "      <button class=\"colab-df-convert\" onclick=\"convertToInteractive('df-28aa7e42-2718-4543-8695-1724c828035b')\"\n",
              "              title=\"Convert this dataframe to an interactive table.\"\n",
              "              style=\"display:none;\">\n",
              "        \n",
              "  <svg xmlns=\"http://www.w3.org/2000/svg\" height=\"24px\"viewBox=\"0 0 24 24\"\n",
              "       width=\"24px\">\n",
              "    <path d=\"M0 0h24v24H0V0z\" fill=\"none\"/>\n",
              "    <path d=\"M18.56 5.44l.94 2.06.94-2.06 2.06-.94-2.06-.94-.94-2.06-.94 2.06-2.06.94zm-11 1L8.5 8.5l.94-2.06 2.06-.94-2.06-.94L8.5 2.5l-.94 2.06-2.06.94zm10 10l.94 2.06.94-2.06 2.06-.94-2.06-.94-.94-2.06-.94 2.06-2.06.94z\"/><path d=\"M17.41 7.96l-1.37-1.37c-.4-.4-.92-.59-1.43-.59-.52 0-1.04.2-1.43.59L10.3 9.45l-7.72 7.72c-.78.78-.78 2.05 0 2.83L4 21.41c.39.39.9.59 1.41.59.51 0 1.02-.2 1.41-.59l7.78-7.78 2.81-2.81c.8-.78.8-2.07 0-2.86zM5.41 20L4 18.59l7.72-7.72 1.47 1.35L5.41 20z\"/>\n",
              "  </svg>\n",
              "      </button>\n",
              "      \n",
              "  <style>\n",
              "    .colab-df-container {\n",
              "      display:flex;\n",
              "      flex-wrap:wrap;\n",
              "      gap: 12px;\n",
              "    }\n",
              "\n",
              "    .colab-df-convert {\n",
              "      background-color: #E8F0FE;\n",
              "      border: none;\n",
              "      border-radius: 50%;\n",
              "      cursor: pointer;\n",
              "      display: none;\n",
              "      fill: #1967D2;\n",
              "      height: 32px;\n",
              "      padding: 0 0 0 0;\n",
              "      width: 32px;\n",
              "    }\n",
              "\n",
              "    .colab-df-convert:hover {\n",
              "      background-color: #E2EBFA;\n",
              "      box-shadow: 0px 1px 2px rgba(60, 64, 67, 0.3), 0px 1px 3px 1px rgba(60, 64, 67, 0.15);\n",
              "      fill: #174EA6;\n",
              "    }\n",
              "\n",
              "    [theme=dark] .colab-df-convert {\n",
              "      background-color: #3B4455;\n",
              "      fill: #D2E3FC;\n",
              "    }\n",
              "\n",
              "    [theme=dark] .colab-df-convert:hover {\n",
              "      background-color: #434B5C;\n",
              "      box-shadow: 0px 1px 3px 1px rgba(0, 0, 0, 0.15);\n",
              "      filter: drop-shadow(0px 1px 2px rgba(0, 0, 0, 0.3));\n",
              "      fill: #FFFFFF;\n",
              "    }\n",
              "  </style>\n",
              "\n",
              "      <script>\n",
              "        const buttonEl =\n",
              "          document.querySelector('#df-28aa7e42-2718-4543-8695-1724c828035b button.colab-df-convert');\n",
              "        buttonEl.style.display =\n",
              "          google.colab.kernel.accessAllowed ? 'block' : 'none';\n",
              "\n",
              "        async function convertToInteractive(key) {\n",
              "          const element = document.querySelector('#df-28aa7e42-2718-4543-8695-1724c828035b');\n",
              "          const dataTable =\n",
              "            await google.colab.kernel.invokeFunction('convertToInteractive',\n",
              "                                                     [key], {});\n",
              "          if (!dataTable) return;\n",
              "\n",
              "          const docLinkHtml = 'Like what you see? Visit the ' +\n",
              "            '<a target=\"_blank\" href=https://colab.research.google.com/notebooks/data_table.ipynb>data table notebook</a>'\n",
              "            + ' to learn more about interactive tables.';\n",
              "          element.innerHTML = '';\n",
              "          dataTable['output_type'] = 'display_data';\n",
              "          await google.colab.output.renderOutput(dataTable, element);\n",
              "          const docLink = document.createElement('div');\n",
              "          docLink.innerHTML = docLinkHtml;\n",
              "          element.appendChild(docLink);\n",
              "        }\n",
              "      </script>\n",
              "    </div>\n",
              "  </div>\n",
              "  "
            ]
          },
          "metadata": {},
          "execution_count": 709
        }
      ]
    },
    {
      "cell_type": "code",
      "source": [
        "#Formulating a model\n",
        "\n",
        "#extract the variable we want to use to predict algal severity\n",
        "X = np.array(final[my_list1[1:8]].values)\n",
        "#standardize data to assist in interpretation of coefficients\n",
        "X = (X - np.mean(X, axis=0)) / np.std(X, axis=0)\n",
        "\n",
        "#extract variable that we want to \"predict\"\n",
        "Y = np.array(final['severity'].values)\n",
        "#standardize data to assist in interpretation of coefficients\n",
        "Y = (Y - np.mean(X)) / np.std(Y)\n",
        "\n",
        "lm = OLS(Y,X)\n",
        "lm_results = OLS(Y,X).fit().summary()\n",
        "print(lm_results)"
      ],
      "metadata": {
        "colab": {
          "base_uri": "https://localhost:8080/"
        },
        "id": "qVt6gbxHgsLX",
        "outputId": "7bc54296-68a6-4dc3-df4a-c16c487dcd0f"
      },
      "execution_count": 710,
      "outputs": [
        {
          "output_type": "stream",
          "name": "stdout",
          "text": [
            "                                 OLS Regression Results                                \n",
            "=======================================================================================\n",
            "Dep. Variable:                      y   R-squared (uncentered):                   0.077\n",
            "Model:                            OLS   Adj. R-squared (uncentered):             -0.077\n",
            "Method:                 Least Squares   F-statistic:                             0.4996\n",
            "Date:                Sat, 05 Nov 2022   Prob (F-statistic):                       0.774\n",
            "Time:                        18:37:39   Log-Likelihood:                         -66.803\n",
            "No. Observations:                  35   AIC:                                      143.6\n",
            "Df Residuals:                      30   BIC:                                      151.4\n",
            "Df Model:                           5                                                  \n",
            "Covariance Type:            nonrobust                                                  \n",
            "==============================================================================\n",
            "                 coef    std err          t      P>|t|      [0.025      0.975]\n",
            "------------------------------------------------------------------------------\n",
            "x1            -0.5934      0.489     -1.213      0.235      -1.593       0.406\n",
            "x2             0.5396      0.492      1.097      0.281      -0.465       1.544\n",
            "x3            -0.0118      0.116     -0.102      0.920      -0.248       0.225\n",
            "x4            -0.1226      0.305     -0.402      0.691      -0.746       0.501\n",
            "x5             0.1352      0.306      0.442      0.662      -0.489       0.760\n",
            "x6            -0.0326      0.253     -0.129      0.898      -0.550       0.484\n",
            "x7            -0.0075      0.154     -0.049      0.961      -0.322       0.306\n",
            "==============================================================================\n",
            "Omnibus:                        8.514   Durbin-Watson:                   0.309\n",
            "Prob(Omnibus):                  0.014   Jarque-Bera (JB):                2.696\n",
            "Skew:                           0.278   Prob(JB):                        0.260\n",
            "Kurtosis:                       1.759   Cond. No.                     6.68e+15\n",
            "==============================================================================\n",
            "\n",
            "Notes:\n",
            "[1] R² is computed without centering (uncentered) since the model does not contain a constant.\n",
            "[2] Standard Errors assume that the covariance matrix of the errors is correctly specified.\n",
            "[3] The smallest eigenvalue is 2.29e-30. This might indicate that there are\n",
            "strong multicollinearity problems or that the design matrix is singular.\n"
          ]
        }
      ]
    },
    {
      "cell_type": "code",
      "source": [
        "#Random Forest Regression\n",
        "# Import libraries\n",
        "import numpy as np # for array operations\n",
        "import pandas as pd # for working with DataFrames\n",
        "import requests, io # for HTTP requests and I/O commands\n",
        "import matplotlib.pyplot as plt # for data visualization\n",
        "%matplotlib inline\n",
        "\n",
        "# scikit-learn modules\n",
        "from sklearn.model_selection import train_test_split # for splitting the data\n",
        "from sklearn.metrics import mean_squared_error # for calculating the cost function\n",
        "from sklearn.ensemble import RandomForestRegressor # for building the model\n",
        "\n",
        "# Reading the data\n",
        "#'Max_Temp','Min_Temp','Precip1','Precip2','PrecipSum'\n",
        "dataset = final\n",
        "dataset.drop(['LAKE_ID','LOCATION_TYPE','HS_HAB_STATUS','Date'], axis=1, inplace=True)\n",
        "dataset.head()\n"
      ],
      "metadata": {
        "colab": {
          "base_uri": "https://localhost:8080/",
          "height": 357
        },
        "id": "Vls50h7nTxBX",
        "outputId": "fa05d2e1-849a-4a19-d8cf-20b8d6665159"
      },
      "execution_count": 711,
      "outputs": [
        {
          "output_type": "stream",
          "name": "stderr",
          "text": [
            "/usr/local/lib/python3.7/dist-packages/pandas/core/frame.py:4913: SettingWithCopyWarning: \n",
            "A value is trying to be set on a copy of a slice from a DataFrame\n",
            "\n",
            "See the caveats in the documentation: https://pandas.pydata.org/pandas-docs/stable/user_guide/indexing.html#returning-a-view-versus-a-copy\n",
            "  errors=errors,\n"
          ]
        },
        {
          "output_type": "execute_result",
          "data": {
            "text/plain": [
              "   Max_Temp  Min_Temp  Avg_Temp  Precip  severity  Precip1  Precip2  PrecipSum\n",
              "0      71.0      51.0      61.0    0.10       3.0     0.00     0.58       0.68\n",
              "1      81.0      64.0      72.5    0.07       2.0     0.24     0.00       0.31\n",
              "2      86.0      64.0      75.0    0.00       2.0     0.00     0.00       0.00\n",
              "3      86.0      70.0      78.0    0.00       3.0     0.00     0.30       0.30\n",
              "4      81.0      65.0      73.0    0.67       2.0     0.00     0.52       1.19"
            ],
            "text/html": [
              "\n",
              "  <div id=\"df-bf58fca6-df2f-406c-968b-53f3b76b5e0f\">\n",
              "    <div class=\"colab-df-container\">\n",
              "      <div>\n",
              "<style scoped>\n",
              "    .dataframe tbody tr th:only-of-type {\n",
              "        vertical-align: middle;\n",
              "    }\n",
              "\n",
              "    .dataframe tbody tr th {\n",
              "        vertical-align: top;\n",
              "    }\n",
              "\n",
              "    .dataframe thead th {\n",
              "        text-align: right;\n",
              "    }\n",
              "</style>\n",
              "<table border=\"1\" class=\"dataframe\">\n",
              "  <thead>\n",
              "    <tr style=\"text-align: right;\">\n",
              "      <th></th>\n",
              "      <th>Max_Temp</th>\n",
              "      <th>Min_Temp</th>\n",
              "      <th>Avg_Temp</th>\n",
              "      <th>Precip</th>\n",
              "      <th>severity</th>\n",
              "      <th>Precip1</th>\n",
              "      <th>Precip2</th>\n",
              "      <th>PrecipSum</th>\n",
              "    </tr>\n",
              "  </thead>\n",
              "  <tbody>\n",
              "    <tr>\n",
              "      <th>0</th>\n",
              "      <td>71.0</td>\n",
              "      <td>51.0</td>\n",
              "      <td>61.0</td>\n",
              "      <td>0.10</td>\n",
              "      <td>3.0</td>\n",
              "      <td>0.00</td>\n",
              "      <td>0.58</td>\n",
              "      <td>0.68</td>\n",
              "    </tr>\n",
              "    <tr>\n",
              "      <th>1</th>\n",
              "      <td>81.0</td>\n",
              "      <td>64.0</td>\n",
              "      <td>72.5</td>\n",
              "      <td>0.07</td>\n",
              "      <td>2.0</td>\n",
              "      <td>0.24</td>\n",
              "      <td>0.00</td>\n",
              "      <td>0.31</td>\n",
              "    </tr>\n",
              "    <tr>\n",
              "      <th>2</th>\n",
              "      <td>86.0</td>\n",
              "      <td>64.0</td>\n",
              "      <td>75.0</td>\n",
              "      <td>0.00</td>\n",
              "      <td>2.0</td>\n",
              "      <td>0.00</td>\n",
              "      <td>0.00</td>\n",
              "      <td>0.00</td>\n",
              "    </tr>\n",
              "    <tr>\n",
              "      <th>3</th>\n",
              "      <td>86.0</td>\n",
              "      <td>70.0</td>\n",
              "      <td>78.0</td>\n",
              "      <td>0.00</td>\n",
              "      <td>3.0</td>\n",
              "      <td>0.00</td>\n",
              "      <td>0.30</td>\n",
              "      <td>0.30</td>\n",
              "    </tr>\n",
              "    <tr>\n",
              "      <th>4</th>\n",
              "      <td>81.0</td>\n",
              "      <td>65.0</td>\n",
              "      <td>73.0</td>\n",
              "      <td>0.67</td>\n",
              "      <td>2.0</td>\n",
              "      <td>0.00</td>\n",
              "      <td>0.52</td>\n",
              "      <td>1.19</td>\n",
              "    </tr>\n",
              "  </tbody>\n",
              "</table>\n",
              "</div>\n",
              "      <button class=\"colab-df-convert\" onclick=\"convertToInteractive('df-bf58fca6-df2f-406c-968b-53f3b76b5e0f')\"\n",
              "              title=\"Convert this dataframe to an interactive table.\"\n",
              "              style=\"display:none;\">\n",
              "        \n",
              "  <svg xmlns=\"http://www.w3.org/2000/svg\" height=\"24px\"viewBox=\"0 0 24 24\"\n",
              "       width=\"24px\">\n",
              "    <path d=\"M0 0h24v24H0V0z\" fill=\"none\"/>\n",
              "    <path d=\"M18.56 5.44l.94 2.06.94-2.06 2.06-.94-2.06-.94-.94-2.06-.94 2.06-2.06.94zm-11 1L8.5 8.5l.94-2.06 2.06-.94-2.06-.94L8.5 2.5l-.94 2.06-2.06.94zm10 10l.94 2.06.94-2.06 2.06-.94-2.06-.94-.94-2.06-.94 2.06-2.06.94z\"/><path d=\"M17.41 7.96l-1.37-1.37c-.4-.4-.92-.59-1.43-.59-.52 0-1.04.2-1.43.59L10.3 9.45l-7.72 7.72c-.78.78-.78 2.05 0 2.83L4 21.41c.39.39.9.59 1.41.59.51 0 1.02-.2 1.41-.59l7.78-7.78 2.81-2.81c.8-.78.8-2.07 0-2.86zM5.41 20L4 18.59l7.72-7.72 1.47 1.35L5.41 20z\"/>\n",
              "  </svg>\n",
              "      </button>\n",
              "      \n",
              "  <style>\n",
              "    .colab-df-container {\n",
              "      display:flex;\n",
              "      flex-wrap:wrap;\n",
              "      gap: 12px;\n",
              "    }\n",
              "\n",
              "    .colab-df-convert {\n",
              "      background-color: #E8F0FE;\n",
              "      border: none;\n",
              "      border-radius: 50%;\n",
              "      cursor: pointer;\n",
              "      display: none;\n",
              "      fill: #1967D2;\n",
              "      height: 32px;\n",
              "      padding: 0 0 0 0;\n",
              "      width: 32px;\n",
              "    }\n",
              "\n",
              "    .colab-df-convert:hover {\n",
              "      background-color: #E2EBFA;\n",
              "      box-shadow: 0px 1px 2px rgba(60, 64, 67, 0.3), 0px 1px 3px 1px rgba(60, 64, 67, 0.15);\n",
              "      fill: #174EA6;\n",
              "    }\n",
              "\n",
              "    [theme=dark] .colab-df-convert {\n",
              "      background-color: #3B4455;\n",
              "      fill: #D2E3FC;\n",
              "    }\n",
              "\n",
              "    [theme=dark] .colab-df-convert:hover {\n",
              "      background-color: #434B5C;\n",
              "      box-shadow: 0px 1px 3px 1px rgba(0, 0, 0, 0.15);\n",
              "      filter: drop-shadow(0px 1px 2px rgba(0, 0, 0, 0.3));\n",
              "      fill: #FFFFFF;\n",
              "    }\n",
              "  </style>\n",
              "\n",
              "      <script>\n",
              "        const buttonEl =\n",
              "          document.querySelector('#df-bf58fca6-df2f-406c-968b-53f3b76b5e0f button.colab-df-convert');\n",
              "        buttonEl.style.display =\n",
              "          google.colab.kernel.accessAllowed ? 'block' : 'none';\n",
              "\n",
              "        async function convertToInteractive(key) {\n",
              "          const element = document.querySelector('#df-bf58fca6-df2f-406c-968b-53f3b76b5e0f');\n",
              "          const dataTable =\n",
              "            await google.colab.kernel.invokeFunction('convertToInteractive',\n",
              "                                                     [key], {});\n",
              "          if (!dataTable) return;\n",
              "\n",
              "          const docLinkHtml = 'Like what you see? Visit the ' +\n",
              "            '<a target=\"_blank\" href=https://colab.research.google.com/notebooks/data_table.ipynb>data table notebook</a>'\n",
              "            + ' to learn more about interactive tables.';\n",
              "          element.innerHTML = '';\n",
              "          dataTable['output_type'] = 'display_data';\n",
              "          await google.colab.output.renderOutput(dataTable, element);\n",
              "          const docLink = document.createElement('div');\n",
              "          docLink.innerHTML = docLinkHtml;\n",
              "          element.appendChild(docLink);\n",
              "        }\n",
              "      </script>\n",
              "    </div>\n",
              "  </div>\n",
              "  "
            ]
          },
          "metadata": {},
          "execution_count": 711
        }
      ]
    },
    {
      "cell_type": "code",
      "source": [
        "#Create features vs target\n",
        "import pandas as pd\n",
        "from random import randint\n",
        "\n",
        "#create the data frame\n",
        "df = pd.DataFrame(columns=['RMSE','RandomState'])\n",
        "for i in range(100): \n",
        "\n",
        "  x = dataset.drop('severity', axis = 1) # Features\n",
        "  y = dataset['severity']  # Target\n",
        "\n",
        "# Splitting into training and testing (80/20)\n",
        "  x_train, x_test, y_train, y_test = train_test_split(x, y, test_size = 0.2, random_state=20)\n",
        "\n",
        "# Random Forest Regression with 10 decision trees\n",
        "  model = RandomForestRegressor(n_estimators = 10, random_state=20)\n",
        "\n",
        "# Fitting the Random Forest Regression model to the data\n",
        "  model.fit(x_train, y_train) \n",
        "\n",
        "# Predicting the target values of the test set\n",
        "  y_pred = model.predict(x_test)\n",
        "\n",
        "# RMSE (Root Mean Square Error)\n",
        "  rmse = float(format(np.sqrt(mean_squared_error(y_test, y_pred)),'.3f'))\n",
        "  df.loc[i, ['RMSE']] = rmse\n",
        "  df.loc[i, ['RandomState']] = randint(0,1)\n",
        "\n",
        "#Plot results\n",
        "import pandas as pd\n",
        "import matplotlib.pyplot as plt\n",
        "df = pd.DataFrame(df)\n",
        "df.plot()\n",
        "plt.show()"
      ],
      "metadata": {
        "colab": {
          "base_uri": "https://localhost:8080/",
          "height": 265
        },
        "id": "piWVsYImUrjr",
        "outputId": "7fe16a8c-7a6e-4fab-b37b-d78387bac2df"
      },
      "execution_count": 748,
      "outputs": [
        {
          "output_type": "display_data",
          "data": {
            "text/plain": [
              "<Figure size 432x288 with 1 Axes>"
            ],
            "image/png": "[encoded data removed]"
          },
          "metadata": {
            "needs_background": "light"
          }
        }
      ]
    },
    {
      "cell_type": "code",
      "source": [
        "#A rule of thumb is that an RMSE of .2 to .5 shows that the model predicts accurately\n",
        "print('Mean', df.mean())\n",
        "print('Max', df.max())\n",
        "print('Min', df.min())"
      ],
      "metadata": {
        "colab": {
          "base_uri": "https://localhost:8080/"
        },
        "id": "X7M9HEcRV3Cx",
        "outputId": "79fb1463-fe09-4c51-a476-f871c26d0ff7"
      },
      "execution_count": 733,
      "outputs": [
        {
          "output_type": "stream",
          "name": "stdout",
          "text": [
            "Mean RMSE    1.08623\n",
            "dtype: float64\n",
            "Max RMSE    1.668\n",
            "dtype: object\n",
            "Min RMSE    0.374\n",
            "dtype: object\n"
          ]
        }
      ]
    },
    {
      "cell_type": "code",
      "source": [
        "# Calculate the absolute errors\n",
        "errors = abs(y_pred - y_test)\n",
        "# Print out the mean absolute error (mae)\n",
        "print('The average error between the predictions and actuals in this dataset is ', round(np.mean(errors), 2), \n",
        "      ', compared to the average severity which is' , round(np.mean(y),2))"
      ],
      "metadata": {
        "colab": {
          "base_uri": "https://localhost:8080/"
        },
        "id": "6FdSei-po4NS",
        "outputId": "e7c7accc-b4a9-4c46-bc5a-4c5ae319e4c6"
      },
      "execution_count": 734,
      "outputs": [
        {
          "output_type": "stream",
          "name": "stdout",
          "text": [
            "The average error between the predictions and actuals in this dataset is  0.99 , compared to the average severity which is 1.4\n"
          ]
        }
      ]
    },
    {
      "cell_type": "markdown",
      "source": [
        "# **PART THREE: FIGURES & VISUALIZATION**"
      ],
      "metadata": {
        "id": "2_gnvrE_weHT"
      }
    },
    {
      "cell_type": "code",
      "source": [
        "#Creation of a decision tree for random forest regression\n",
        "class_names = ['Max_Temp', 'Min_Temp', 'Avg_Temp','Precip','Precip1','Precip2','PrecipSum']\n",
        "\n",
        "plt.figure(figsize=(20,20))\n",
        "_ = tree.plot_tree(model.estimators_[0], feature_names=class_names, filled=True)"
      ],
      "metadata": {
        "colab": {
          "base_uri": "https://localhost:8080/",
          "height": 630
        },
        "id": "5M8ePvsvy-sg",
        "outputId": "2e2f2436-ab1a-4276-b2af-79aa25f34e7c"
      },
      "execution_count": 735,
      "outputs": [
        {
          "output_type": "display_data",
          "data": {
            "text/plain": [
              "<Figure size 1440x1440 with 1 Axes>"
            ],
            "image/png": "[encoded data removed]"
          },
          "metadata": {
            "needs_background": "light"
          }
        }
      ]
    },
    {
      "cell_type": "code",
      "source": [
        "df = pd.DataFrame(columns=['A','B'])\n",
        "import random\n",
        "A = randint(0,99)\n",
        "print(A)\n",
        "random.seed(A)\n",
        "print(random.random())\n",
        "\n",
        "\n",
        "for i in range(5): #add 5 rows of data\n",
        "    random.seed(A)\n",
        "    df.loc[i, ['A']] = random.random()\n",
        "    random.seed(A)\n",
        "    df.loc[i, ['B']] = random.random()\n",
        "\n",
        "df\n"
      ],
      "metadata": {
        "id": "UjXjSo9WEcFy",
        "outputId": "17bdb3d0-cb84-43b0-9755-f782a69b025c",
        "colab": {
          "base_uri": "https://localhost:8080/",
          "height": 241
        }
      },
      "execution_count": 797,
      "outputs": [
        {
          "output_type": "stream",
          "name": "stdout",
          "text": [
            "69\n",
            "0.6842409524120733\n"
          ]
        },
        {
          "output_type": "execute_result",
          "data": {
            "text/plain": [
              "          A         B\n",
              "0  0.684241  0.684241\n",
              "1  0.684241  0.684241\n",
              "2  0.684241  0.684241\n",
              "3  0.684241  0.684241\n",
              "4  0.684241  0.684241"
            ],
            "text/html": [
              "\n",
              "  <div id=\"df-f6ed80f9-3cee-4077-a5e1-1d54fbf17860\">\n",
              "    <div class=\"colab-df-container\">\n",
              "      <div>\n",
              "<style scoped>\n",
              "    .dataframe tbody tr th:only-of-type {\n",
              "        vertical-align: middle;\n",
              "    }\n",
              "\n",
              "    .dataframe tbody tr th {\n",
              "        vertical-align: top;\n",
              "    }\n",
              "\n",
              "    .dataframe thead th {\n",
              "        text-align: right;\n",
              "    }\n",
              "</style>\n",
              "<table border=\"1\" class=\"dataframe\">\n",
              "  <thead>\n",
              "    <tr style=\"text-align: right;\">\n",
              "      <th></th>\n",
              "      <th>A</th>\n",
              "      <th>B</th>\n",
              "    </tr>\n",
              "  </thead>\n",
              "  <tbody>\n",
              "    <tr>\n",
              "      <th>0</th>\n",
              "      <td>0.684241</td>\n",
              "      <td>0.684241</td>\n",
              "    </tr>\n",
              "    <tr>\n",
              "      <th>1</th>\n",
              "      <td>0.684241</td>\n",
              "      <td>0.684241</td>\n",
              "    </tr>\n",
              "    <tr>\n",
              "      <th>2</th>\n",
              "      <td>0.684241</td>\n",
              "      <td>0.684241</td>\n",
              "    </tr>\n",
              "    <tr>\n",
              "      <th>3</th>\n",
              "      <td>0.684241</td>\n",
              "      <td>0.684241</td>\n",
              "    </tr>\n",
              "    <tr>\n",
              "      <th>4</th>\n",
              "      <td>0.684241</td>\n",
              "      <td>0.684241</td>\n",
              "    </tr>\n",
              "  </tbody>\n",
              "</table>\n",
              "</div>\n",
              "      <button class=\"colab-df-convert\" onclick=\"convertToInteractive('df-f6ed80f9-3cee-4077-a5e1-1d54fbf17860')\"\n",
              "              title=\"Convert this dataframe to an interactive table.\"\n",
              "              style=\"display:none;\">\n",
              "        \n",
              "  <svg xmlns=\"http://www.w3.org/2000/svg\" height=\"24px\"viewBox=\"0 0 24 24\"\n",
              "       width=\"24px\">\n",
              "    <path d=\"M0 0h24v24H0V0z\" fill=\"none\"/>\n",
              "    <path d=\"M18.56 5.44l.94 2.06.94-2.06 2.06-.94-2.06-.94-.94-2.06-.94 2.06-2.06.94zm-11 1L8.5 8.5l.94-2.06 2.06-.94-2.06-.94L8.5 2.5l-.94 2.06-2.06.94zm10 10l.94 2.06.94-2.06 2.06-.94-2.06-.94-.94-2.06-.94 2.06-2.06.94z\"/><path d=\"M17.41 7.96l-1.37-1.37c-.4-.4-.92-.59-1.43-.59-.52 0-1.04.2-1.43.59L10.3 9.45l-7.72 7.72c-.78.78-.78 2.05 0 2.83L4 21.41c.39.39.9.59 1.41.59.51 0 1.02-.2 1.41-.59l7.78-7.78 2.81-2.81c.8-.78.8-2.07 0-2.86zM5.41 20L4 18.59l7.72-7.72 1.47 1.35L5.41 20z\"/>\n",
              "  </svg>\n",
              "      </button>\n",
              "      \n",
              "  <style>\n",
              "    .colab-df-container {\n",
              "      display:flex;\n",
              "      flex-wrap:wrap;\n",
              "      gap: 12px;\n",
              "    }\n",
              "\n",
              "    .colab-df-convert {\n",
              "      background-color: #E8F0FE;\n",
              "      border: none;\n",
              "      border-radius: 50%;\n",
              "      cursor: pointer;\n",
              "      display: none;\n",
              "      fill: #1967D2;\n",
              "      height: 32px;\n",
              "      padding: 0 0 0 0;\n",
              "      width: 32px;\n",
              "    }\n",
              "\n",
              "    .colab-df-convert:hover {\n",
              "      background-color: #E2EBFA;\n",
              "      box-shadow: 0px 1px 2px rgba(60, 64, 67, 0.3), 0px 1px 3px 1px rgba(60, 64, 67, 0.15);\n",
              "      fill: #174EA6;\n",
              "    }\n",
              "\n",
              "    [theme=dark] .colab-df-convert {\n",
              "      background-color: #3B4455;\n",
              "      fill: #D2E3FC;\n",
              "    }\n",
              "\n",
              "    [theme=dark] .colab-df-convert:hover {\n",
              "      background-color: #434B5C;\n",
              "      box-shadow: 0px 1px 3px 1px rgba(0, 0, 0, 0.15);\n",
              "      filter: drop-shadow(0px 1px 2px rgba(0, 0, 0, 0.3));\n",
              "      fill: #FFFFFF;\n",
              "    }\n",
              "  </style>\n",
              "\n",
              "      <script>\n",
              "        const buttonEl =\n",
              "          document.querySelector('#df-f6ed80f9-3cee-4077-a5e1-1d54fbf17860 button.colab-df-convert');\n",
              "        buttonEl.style.display =\n",
              "          google.colab.kernel.accessAllowed ? 'block' : 'none';\n",
              "\n",
              "        async function convertToInteractive(key) {\n",
              "          const element = document.querySelector('#df-f6ed80f9-3cee-4077-a5e1-1d54fbf17860');\n",
              "          const dataTable =\n",
              "            await google.colab.kernel.invokeFunction('convertToInteractive',\n",
              "                                                     [key], {});\n",
              "          if (!dataTable) return;\n",
              "\n",
              "          const docLinkHtml = 'Like what you see? Visit the ' +\n",
              "            '<a target=\"_blank\" href=https://colab.research.google.com/notebooks/data_table.ipynb>data table notebook</a>'\n",
              "            + ' to learn more about interactive tables.';\n",
              "          element.innerHTML = '';\n",
              "          dataTable['output_type'] = 'display_data';\n",
              "          await google.colab.output.renderOutput(dataTable, element);\n",
              "          const docLink = document.createElement('div');\n",
              "          docLink.innerHTML = docLinkHtml;\n",
              "          element.appendChild(docLink);\n",
              "        }\n",
              "      </script>\n",
              "    </div>\n",
              "  </div>\n",
              "  "
            ]
          },
          "metadata": {},
          "execution_count": 797
        }
      ]
    },
    {
      "cell_type": "code",
      "source": [
        "import random\n",
        "\n",
        "A = randint(0,99)\n",
        "A\n",
        "random.seed(A)\n",
        "random.random()\n",
        "\n",
        "random.seed(A)\n",
        "random.random()"
      ],
      "metadata": {
        "id": "QY47RSjPG5DU",
        "outputId": "e7f08e05-a6e8-4eab-c129-05130a406b7c",
        "colab": {
          "base_uri": "https://localhost:8080/"
        }
      },
      "execution_count": 785,
      "outputs": [
        {
          "output_type": "execute_result",
          "data": {
            "text/plain": [
              "0.9783548583709967"
            ]
          },
          "metadata": {},
          "execution_count": 785
        }
      ]
    },
    {
      "cell_type": "code",
      "source": [
        "random.seed(A)\n",
        "random.random()"
      ],
      "metadata": {
        "id": "d6Q8FOLXKYc_",
        "outputId": "c091fbed-99eb-4125-b69e-2e51c5f0823e",
        "colab": {
          "base_uri": "https://localhost:8080/"
        }
      },
      "execution_count": 782,
      "outputs": [
        {
          "output_type": "execute_result",
          "data": {
            "text/plain": [
              "0.20985124453651727"
            ]
          },
          "metadata": {},
          "execution_count": 782
        }
      ]
    },
    {
      "cell_type": "code",
      "source": [
        "#Create features vs target\n",
        "import pandas as pd\n",
        "from random import randint\n",
        "\n",
        "#create the data frame\n",
        "df = pd.DataFrame(columns=['RMSE'])\n",
        "for i in range(500): #add 5 rows of data\n",
        "\n",
        "  x = dataset.drop('severity', axis = 1) # Features\n",
        "  y = dataset['severity']  # Target\n",
        "\n",
        "# Splitting into training and testing (80/20)\n",
        "  x_train, x_test, y_train, y_test = train_test_split(x, y, test_size = 0.2)\n",
        "\n",
        "# Random Forest Regression with 10 decision trees\n",
        "  model = RandomForestRegressor(n_estimators = 10)\n",
        "\n",
        "# Fitting the Random Forest Regression model to the data\n",
        "  model.fit(x_train, y_train) \n",
        "\n",
        "# Predicting the target values of the test set\n",
        "  y_pred = model.predict(x_test)\n",
        "\n",
        "# RMSE (Root Mean Square Error)\n",
        "  rmse = float(format(np.sqrt(mean_squared_error(y_test, y_pred)),'.3f'))\n",
        "  df.loc[i, ['RMSE']] = rmse\n",
        "\n",
        "\n",
        "#Plot results\n",
        "import pandas as pd\n",
        "import matplotlib.pyplot as plt\n",
        "df = pd.DataFrame(df)\n",
        "df.plot()\n",
        "plt.show()"
      ],
      "metadata": {
        "id": "Iz_53bQ-FMsA"
      },
      "execution_count": null,
      "outputs": []
    }
  ]
}